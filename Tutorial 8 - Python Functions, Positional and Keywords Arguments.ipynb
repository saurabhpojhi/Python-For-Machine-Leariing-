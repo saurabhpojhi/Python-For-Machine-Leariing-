{
 "cells": [
  {
   "cell_type": "markdown",
   "id": "fbe0c12c",
   "metadata": {},
   "source": [
    "## Functions in python\n",
    ". why function\n",
    ". function definition\n",
    "  . keywords and arguments in functions"
   ]
  },
  {
   "cell_type": "code",
   "execution_count": 3,
   "id": "3663ef47",
   "metadata": {},
   "outputs": [],
   "source": [
    "def even_odd(num):\n",
    "    if num%2 ==0:\n",
    "        print(\" the number is even\")\n",
    "    else:\n",
    "        print(\"the num is odd\")\n",
    "        "
   ]
  },
  {
   "cell_type": "code",
   "execution_count": 4,
   "id": "d3408a4e",
   "metadata": {},
   "outputs": [
    {
     "name": "stdout",
     "output_type": "stream",
     "text": [
      " the number is even\n"
     ]
    }
   ],
   "source": [
    "even_odd(24)"
   ]
  },
  {
   "cell_type": "code",
   "execution_count": 5,
   "id": "7e2581cb",
   "metadata": {},
   "outputs": [
    {
     "name": "stdout",
     "output_type": "stream",
     "text": [
      "the num is odd\n"
     ]
    }
   ],
   "source": [
    "even_odd(25)"
   ]
  },
  {
   "cell_type": "code",
   "execution_count": 6,
   "id": "d966bcbd",
   "metadata": {},
   "outputs": [],
   "source": [
    "# print vs return\n",
    "\n",
    "def hello_world():\n",
    "    print(\"hello welcome\")"
   ]
  },
  {
   "cell_type": "code",
   "execution_count": 7,
   "id": "b7c46cae",
   "metadata": {},
   "outputs": [
    {
     "name": "stdout",
     "output_type": "stream",
     "text": [
      "hello welcome\n"
     ]
    }
   ],
   "source": [
    "hello_world()"
   ]
  },
  {
   "cell_type": "code",
   "execution_count": 8,
   "id": "d1dce475",
   "metadata": {},
   "outputs": [
    {
     "name": "stdout",
     "output_type": "stream",
     "text": [
      "hello welcome\n"
     ]
    }
   ],
   "source": [
    "val=hello_world()"
   ]
  },
  {
   "cell_type": "code",
   "execution_count": 10,
   "id": "3d6f2954",
   "metadata": {},
   "outputs": [],
   "source": [
    "def add_number(num1,num2):\n",
    "    return num1+num2"
   ]
  },
  {
   "cell_type": "code",
   "execution_count": 11,
   "id": "3019dd0b",
   "metadata": {},
   "outputs": [],
   "source": [
    " val = add_number(24,43)"
   ]
  },
  {
   "cell_type": "code",
   "execution_count": 12,
   "id": "c324a58b",
   "metadata": {},
   "outputs": [
    {
     "data": {
      "text/plain": [
       "67"
      ]
     },
     "execution_count": 12,
     "metadata": {},
     "output_type": "execute_result"
    }
   ],
   "source": [
    "val"
   ]
  },
  {
   "cell_type": "code",
   "execution_count": 36,
   "id": "7fd2f478",
   "metadata": {},
   "outputs": [],
   "source": [
    " def hello(name,age=26):\n",
    "        print(\"My name is {} and age is {}\".format(name,age))\n",
    "        "
   ]
  },
  {
   "cell_type": "code",
   "execution_count": 37,
   "id": "b1034236",
   "metadata": {},
   "outputs": [
    {
     "name": "stdout",
     "output_type": "stream",
     "text": [
      "My name is saurav and age is 26\n"
     ]
    }
   ],
   "source": [
    "hello('saurav')"
   ]
  },
  {
   "cell_type": "code",
   "execution_count": 26,
   "id": "0245f883",
   "metadata": {},
   "outputs": [],
   "source": [
    " # positional argument  and keyword argumnet"
   ]
  },
  {
   "cell_type": "code",
   "execution_count": 27,
   "id": "170a4049",
   "metadata": {},
   "outputs": [],
   "source": [
    "def hello(name,age=26):\n",
    "        print(\"my name is {} and age is {}\".format(name,age))"
   ]
  },
  {
   "cell_type": "code",
   "execution_count": 28,
   "id": "b9678855",
   "metadata": {},
   "outputs": [
    {
     "name": "stdout",
     "output_type": "stream",
     "text": [
      "my name is saurav and age is 26\n"
     ]
    }
   ],
   "source": [
    "hello('saurav')"
   ]
  },
  {
   "cell_type": "code",
   "execution_count": 29,
   "id": "a27ca8a3",
   "metadata": {},
   "outputs": [],
   "source": [
    " def hello(*args,**kwargs):\n",
    "        print(args)\n",
    "        print(kwargs)"
   ]
  },
  {
   "cell_type": "code",
   "execution_count": 30,
   "id": "35fe8845",
   "metadata": {},
   "outputs": [
    {
     "name": "stdout",
     "output_type": "stream",
     "text": [
      "('saurav', 'gupta')\n",
      "{'args': 26, 'dob': 1995}\n"
     ]
    }
   ],
   "source": [
    "hello(\"saurav\", \"gupta\",args=26,dob=1995)"
   ]
  },
  {
   "cell_type": "code",
   "execution_count": 31,
   "id": "fe75dbba",
   "metadata": {},
   "outputs": [],
   "source": [
    "lst=['saurav,gupta']\n",
    "dict_args={'age': 26,'dob':1995}"
   ]
  },
  {
   "cell_type": "code",
   "execution_count": 32,
   "id": "3039a442",
   "metadata": {},
   "outputs": [
    {
     "name": "stdout",
     "output_type": "stream",
     "text": [
      "('saurav,gupta',)\n",
      "{'age': 26, 'dob': 1995}\n"
     ]
    }
   ],
   "source": [
    "hello(*lst,**dict_args)"
   ]
  },
  {
   "cell_type": "code",
   "execution_count": 33,
   "id": "2df975f7",
   "metadata": {},
   "outputs": [],
   "source": [
    "lst=[1,2,3,4,5,6,7]"
   ]
  },
  {
   "cell_type": "code",
   "execution_count": 34,
   "id": "2b2d250e",
   "metadata": {},
   "outputs": [],
   "source": [
    "def evenoddsum(lst):\n",
    "    even_sum=0\n",
    "    odd_sum=0\n",
    "    for i in lst:\n",
    "        even_sum=even_sum+1\n",
    "        return even_sum,odd_sum\n",
    "    "
   ]
  },
  {
   "cell_type": "code",
   "execution_count": 35,
   "id": "10d09745",
   "metadata": {},
   "outputs": [
    {
     "data": {
      "text/plain": [
       "(1, 0)"
      ]
     },
     "execution_count": 35,
     "metadata": {},
     "output_type": "execute_result"
    }
   ],
   "source": [
    "evenoddsum(lst)"
   ]
  },
  {
   "cell_type": "code",
   "execution_count": null,
   "id": "67e5ab20",
   "metadata": {},
   "outputs": [],
   "source": []
  }
 ],
 "metadata": {
  "kernelspec": {
   "display_name": "Python 3",
   "language": "python",
   "name": "python3"
  },
  "language_info": {
   "codemirror_mode": {
    "name": "ipython",
    "version": 3
   },
   "file_extension": ".py",
   "mimetype": "text/x-python",
   "name": "python",
   "nbconvert_exporter": "python",
   "pygments_lexer": "ipython3",
   "version": "3.8.8"
  }
 },
 "nbformat": 4,
 "nbformat_minor": 5
}
