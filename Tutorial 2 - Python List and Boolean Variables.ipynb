{
 "cells": [
  {
   "cell_type": "markdown",
   "id": "27843dbc",
   "metadata": {},
   "source": [
    "# Boolean variable"
   ]
  },
  {
   "cell_type": "code",
   "execution_count": 1,
   "id": "bac40e63",
   "metadata": {},
   "outputs": [
    {
     "name": "stdout",
     "output_type": "stream",
     "text": [
      "True False\n"
     ]
    }
   ],
   "source": [
    "print (True,False)"
   ]
  },
  {
   "cell_type": "code",
   "execution_count": 2,
   "id": "b3f62e5f",
   "metadata": {},
   "outputs": [
    {
     "data": {
      "text/plain": [
       "bool"
      ]
     },
     "execution_count": 2,
     "metadata": {},
     "output_type": "execute_result"
    }
   ],
   "source": [
    "type(True)"
   ]
  },
  {
   "cell_type": "code",
   "execution_count": 3,
   "id": "d4a5961e",
   "metadata": {},
   "outputs": [
    {
     "data": {
      "text/plain": [
       "bool"
      ]
     },
     "execution_count": 3,
     "metadata": {},
     "output_type": "execute_result"
    }
   ],
   "source": [
    "type(False)"
   ]
  },
  {
   "cell_type": "code",
   "execution_count": 4,
   "id": "a297c55d",
   "metadata": {},
   "outputs": [],
   "source": [
    "my_str=\"saurav gupta\""
   ]
  },
  {
   "cell_type": "code",
   "execution_count": 5,
   "id": "569990ad",
   "metadata": {},
   "outputs": [
    {
     "name": "stdout",
     "output_type": "stream",
     "text": [
      "False\n"
     ]
    }
   ],
   "source": [
    "print(my_str.isalnum())"
   ]
  },
  {
   "cell_type": "code",
   "execution_count": 6,
   "id": "228d94ab",
   "metadata": {},
   "outputs": [
    {
     "name": "stdout",
     "output_type": "stream",
     "text": [
      "False\n"
     ]
    }
   ],
   "source": [
    "print(my_str.isalpha())"
   ]
  },
  {
   "cell_type": "code",
   "execution_count": 7,
   "id": "e3ea110b",
   "metadata": {},
   "outputs": [
    {
     "name": "stdout",
     "output_type": "stream",
     "text": [
      "False\n"
     ]
    }
   ],
   "source": [
    "print(my_str.istitle())"
   ]
  },
  {
   "cell_type": "markdown",
   "id": "a9d12ba9",
   "metadata": {},
   "source": [
    "#  boolean and logic operator"
   ]
  },
  {
   "cell_type": "code",
   "execution_count": 8,
   "id": "714039a9",
   "metadata": {},
   "outputs": [
    {
     "data": {
      "text/plain": [
       "True"
      ]
     },
     "execution_count": 8,
     "metadata": {},
     "output_type": "execute_result"
    }
   ],
   "source": [
    "True and True"
   ]
  },
  {
   "cell_type": "code",
   "execution_count": 9,
   "id": "d54dd927",
   "metadata": {},
   "outputs": [
    {
     "data": {
      "text/plain": [
       "False"
      ]
     },
     "execution_count": 9,
     "metadata": {},
     "output_type": "execute_result"
    }
   ],
   "source": [
    "True and False"
   ]
  },
  {
   "cell_type": "code",
   "execution_count": 10,
   "id": "752534b5",
   "metadata": {},
   "outputs": [
    {
     "data": {
      "text/plain": [
       "True"
      ]
     },
     "execution_count": 10,
     "metadata": {},
     "output_type": "execute_result"
    }
   ],
   "source": [
    "True or False"
   ]
  },
  {
   "cell_type": "code",
   "execution_count": 11,
   "id": "5ac6811d",
   "metadata": {},
   "outputs": [
    {
     "data": {
      "text/plain": [
       "True"
      ]
     },
     "execution_count": 11,
     "metadata": {},
     "output_type": "execute_result"
    }
   ],
   "source": [
    "True and True"
   ]
  },
  {
   "cell_type": "markdown",
   "id": "08d5e3dd",
   "metadata": {},
   "source": [
    "# List"
   ]
  },
  {
   "cell_type": "code",
   "execution_count": 12,
   "id": "ffbac5c5",
   "metadata": {},
   "outputs": [],
   "source": [
    "lst_example=[]"
   ]
  },
  {
   "cell_type": "code",
   "execution_count": 13,
   "id": "3ca6a71a",
   "metadata": {},
   "outputs": [
    {
     "data": {
      "text/plain": [
       "list"
      ]
     },
     "execution_count": 13,
     "metadata": {},
     "output_type": "execute_result"
    }
   ],
   "source": [
    "type(lst_example)"
   ]
  },
  {
   "cell_type": "code",
   "execution_count": 14,
   "id": "e2cc0039",
   "metadata": {},
   "outputs": [],
   "source": [
    "lst=list()"
   ]
  },
  {
   "cell_type": "code",
   "execution_count": 15,
   "id": "b14dd96a",
   "metadata": {},
   "outputs": [
    {
     "data": {
      "text/plain": [
       "list"
      ]
     },
     "execution_count": 15,
     "metadata": {},
     "output_type": "execute_result"
    }
   ],
   "source": [
    "type(lst)"
   ]
  },
  {
   "cell_type": "code",
   "execution_count": 16,
   "id": "90633266",
   "metadata": {},
   "outputs": [],
   "source": [
    "lst=['math','chem',100,200,300,400]"
   ]
  },
  {
   "cell_type": "code",
   "execution_count": 17,
   "id": "d0b94b1b",
   "metadata": {},
   "outputs": [
    {
     "data": {
      "text/plain": [
       "list"
      ]
     },
     "execution_count": 17,
     "metadata": {},
     "output_type": "execute_result"
    }
   ],
   "source": [
    "type(lst)"
   ]
  },
  {
   "cell_type": "markdown",
   "id": "e9265c70",
   "metadata": {},
   "source": [
    "# Append in list"
   ]
  },
  {
   "cell_type": "code",
   "execution_count": 18,
   "id": "12a6c7af",
   "metadata": {},
   "outputs": [],
   "source": [
    "# .append is used to add element in the last\n",
    "lst.append(\"saurav\")"
   ]
  },
  {
   "cell_type": "code",
   "execution_count": 19,
   "id": "a9c60fb9",
   "metadata": {},
   "outputs": [
    {
     "data": {
      "text/plain": [
       "['math', 'chem', 100, 200, 300, 400, 'saurav']"
      ]
     },
     "execution_count": 19,
     "metadata": {},
     "output_type": "execute_result"
    }
   ],
   "source": [
    "lst"
   ]
  },
  {
   "cell_type": "code",
   "execution_count": 20,
   "id": "214972b9",
   "metadata": {},
   "outputs": [
    {
     "data": {
      "text/plain": [
       "100"
      ]
     },
     "execution_count": 20,
     "metadata": {},
     "output_type": "execute_result"
    }
   ],
   "source": [
    "# indexing in list \n",
    "lst[2]"
   ]
  },
  {
   "cell_type": "code",
   "execution_count": 21,
   "id": "add22132",
   "metadata": {},
   "outputs": [
    {
     "data": {
      "text/plain": [
       "400"
      ]
     },
     "execution_count": 21,
     "metadata": {},
     "output_type": "execute_result"
    }
   ],
   "source": [
    "lst[5]"
   ]
  },
  {
   "cell_type": "code",
   "execution_count": 22,
   "id": "a49dfdb2",
   "metadata": {},
   "outputs": [
    {
     "data": {
      "text/plain": [
       "['math', 'chem', 100, 200, 300, 400, 'saurav']"
      ]
     },
     "execution_count": 22,
     "metadata": {},
     "output_type": "execute_result"
    }
   ],
   "source": [
    "lst[:]"
   ]
  },
  {
   "cell_type": "code",
   "execution_count": 23,
   "id": "c495fb13",
   "metadata": {},
   "outputs": [
    {
     "data": {
      "text/plain": [
       "['chem', 100, 200, 300, 400, 'saurav']"
      ]
     },
     "execution_count": 23,
     "metadata": {},
     "output_type": "execute_result"
    }
   ],
   "source": [
    "lst[1:]"
   ]
  },
  {
   "cell_type": "markdown",
   "id": "2b6d5c83",
   "metadata": {},
   "source": [
    "# Insert in List"
   ]
  },
  {
   "cell_type": "code",
   "execution_count": 24,
   "id": "0a543f15",
   "metadata": {},
   "outputs": [],
   "source": [
    "## insert in a specify order\n",
    "lst.insert(1,\"gupta\")"
   ]
  },
  {
   "cell_type": "code",
   "execution_count": 25,
   "id": "ad1823f9",
   "metadata": {},
   "outputs": [
    {
     "data": {
      "text/plain": [
       "['math', 'gupta', 'chem', 100, 200, 300, 400, 'saurav']"
      ]
     },
     "execution_count": 25,
     "metadata": {},
     "output_type": "execute_result"
    }
   ],
   "source": [
    "lst"
   ]
  },
  {
   "cell_type": "markdown",
   "id": "34e2c00c",
   "metadata": {},
   "source": [
    "# Extend method in List"
   ]
  },
  {
   "cell_type": "code",
   "execution_count": 26,
   "id": "b21eee92",
   "metadata": {},
   "outputs": [],
   "source": [
    "lst =[1,2,3,4,5]"
   ]
  },
  {
   "cell_type": "code",
   "execution_count": 27,
   "id": "b48289bc",
   "metadata": {},
   "outputs": [],
   "source": [
    "lst.extend([6,7,8])"
   ]
  },
  {
   "cell_type": "code",
   "execution_count": 28,
   "id": "997c1dd7",
   "metadata": {},
   "outputs": [
    {
     "data": {
      "text/plain": [
       "[1, 2, 3, 4, 5, 6, 7, 8]"
      ]
     },
     "execution_count": 28,
     "metadata": {},
     "output_type": "execute_result"
    }
   ],
   "source": [
    "lst"
   ]
  },
  {
   "cell_type": "markdown",
   "id": "cee42be7",
   "metadata": {},
   "source": [
    "# various operations that we can performs in list"
   ]
  },
  {
   "cell_type": "code",
   "execution_count": 29,
   "id": "2027b466",
   "metadata": {},
   "outputs": [],
   "source": [
    "lst=[1,2,3,4,5,]"
   ]
  },
  {
   "cell_type": "code",
   "execution_count": 30,
   "id": "baf4e6ff",
   "metadata": {},
   "outputs": [
    {
     "data": {
      "text/plain": [
       "15"
      ]
     },
     "execution_count": 30,
     "metadata": {},
     "output_type": "execute_result"
    }
   ],
   "source": [
    "sum(lst)"
   ]
  },
  {
   "cell_type": "code",
   "execution_count": 31,
   "id": "20d44088",
   "metadata": {},
   "outputs": [
    {
     "data": {
      "text/plain": [
       "5"
      ]
     },
     "execution_count": 31,
     "metadata": {},
     "output_type": "execute_result"
    }
   ],
   "source": [
    "max(lst)"
   ]
  },
  {
   "cell_type": "markdown",
   "id": "215e6b2c",
   "metadata": {},
   "source": [
    "# Pop () method"
   ]
  },
  {
   "cell_type": "code",
   "execution_count": 32,
   "id": "c64b99f1",
   "metadata": {},
   "outputs": [
    {
     "data": {
      "text/plain": [
       "5"
      ]
     },
     "execution_count": 32,
     "metadata": {},
     "output_type": "execute_result"
    }
   ],
   "source": [
    "lst.pop()"
   ]
  },
  {
   "cell_type": "code",
   "execution_count": 33,
   "id": "f3528f36",
   "metadata": {},
   "outputs": [
    {
     "data": {
      "text/plain": [
       "[1, 2, 3, 4]"
      ]
     },
     "execution_count": 33,
     "metadata": {},
     "output_type": "execute_result"
    }
   ],
   "source": [
    "lst"
   ]
  },
  {
   "cell_type": "markdown",
   "id": "2f213554",
   "metadata": {},
   "source": [
    "# count (): calculate total occurences of given elements of list"
   ]
  },
  {
   "cell_type": "code",
   "execution_count": 34,
   "id": "ff7bd8c2",
   "metadata": {},
   "outputs": [
    {
     "data": {
      "text/plain": [
       "2"
      ]
     },
     "execution_count": 34,
     "metadata": {},
     "output_type": "execute_result"
    }
   ],
   "source": [
    "lst=[1,1,2,3,4,5,]\n",
    "lst.count(1)"
   ]
  },
  {
   "cell_type": "code",
   "execution_count": 35,
   "id": "4bcece9c",
   "metadata": {},
   "outputs": [
    {
     "data": {
      "text/plain": [
       "6"
      ]
     },
     "execution_count": 35,
     "metadata": {},
     "output_type": "execute_result"
    }
   ],
   "source": [
    "# length: calculate total length of list\n",
    "len(lst)"
   ]
  },
  {
   "cell_type": "code",
   "execution_count": 36,
   "id": "84600868",
   "metadata": {},
   "outputs": [
    {
     "data": {
      "text/plain": [
       "0"
      ]
     },
     "execution_count": 36,
     "metadata": {},
     "output_type": "execute_result"
    }
   ],
   "source": [
    "# index(): returns the index of first occurence ; start and end index are not neccessary parameetr\n",
    "lst.index(1,0,4)"
   ]
  },
  {
   "cell_type": "code",
   "execution_count": 38,
   "id": "9ec30ad1",
   "metadata": {},
   "outputs": [],
   "source": [
    " # min and max"
   ]
  },
  {
   "cell_type": "code",
   "execution_count": 39,
   "id": "1f89aa88",
   "metadata": {},
   "outputs": [
    {
     "data": {
      "text/plain": [
       "1"
      ]
     },
     "execution_count": 39,
     "metadata": {},
     "output_type": "execute_result"
    }
   ],
   "source": [
    " min(lst)"
   ]
  },
  {
   "cell_type": "code",
   "execution_count": null,
   "id": "e146f517",
   "metadata": {},
   "outputs": [],
   "source": []
  }
 ],
 "metadata": {
  "kernelspec": {
   "display_name": "Python 3",
   "language": "python",
   "name": "python3"
  },
  "language_info": {
   "codemirror_mode": {
    "name": "ipython",
    "version": 3
   },
   "file_extension": ".py",
   "mimetype": "text/x-python",
   "name": "python",
   "nbconvert_exporter": "python",
   "pygments_lexer": "ipython3",
   "version": "3.8.8"
  }
 },
 "nbformat": 4,
 "nbformat_minor": 5
}
