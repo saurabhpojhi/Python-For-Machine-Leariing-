{
 "cells": [
  {
   "cell_type": "markdown",
   "id": "ae17975e",
   "metadata": {},
   "source": [
    "# Sets"
   ]
  },
  {
   "cell_type": "code",
   "execution_count": 22,
   "id": "e27c46b7",
   "metadata": {},
   "outputs": [
    {
     "name": "stdout",
     "output_type": "stream",
     "text": [
      "set()\n",
      "<class 'set'>\n"
     ]
    }
   ],
   "source": [
    "# define on empty set\n",
    "\n",
    "set_var=set()\n",
    "print(set_var)\n",
    "print(type(set_var))"
   ]
  },
  {
   "cell_type": "code",
   "execution_count": 23,
   "id": "c22e7c53",
   "metadata": {},
   "outputs": [
    {
     "name": "stdout",
     "output_type": "stream",
     "text": [
      "{'Marvel', 'Bollywood', 'DC'}\n"
     ]
    },
    {
     "data": {
      "text/plain": [
       "set"
      ]
     },
     "execution_count": 23,
     "metadata": {},
     "output_type": "execute_result"
    }
   ],
   "source": [
    "set_var={\"Marvel\",\"DC\",\"Bollywood\"}\n",
    "print(set_var)\n",
    "type(set_var)"
   ]
  },
  {
   "cell_type": "code",
   "execution_count": 24,
   "id": "52c05bd9",
   "metadata": {},
   "outputs": [],
   "source": [
    "set1={\"Marvel\",\"DC\",'Bollywood'}\n",
    "set2={\"Marvel\",\"DC\",'Bollywood','Hollywood'}"
   ]
  },
  {
   "cell_type": "code",
   "execution_count": 25,
   "id": "2bfc5fdd",
   "metadata": {},
   "outputs": [
    {
     "data": {
      "text/plain": [
       "{'Hollywood'}"
      ]
     },
     "execution_count": 25,
     "metadata": {},
     "output_type": "execute_result"
    }
   ],
   "source": [
    "#difference \n",
    "set2.difference(set1)"
   ]
  },
  {
   "cell_type": "code",
   "execution_count": 26,
   "id": "4d6fd767",
   "metadata": {},
   "outputs": [],
   "source": [
    "#difference update\n",
    "set2.update(set1)"
   ]
  },
  {
   "cell_type": "code",
   "execution_count": 27,
   "id": "af914dc3",
   "metadata": {},
   "outputs": [
    {
     "name": "stdout",
     "output_type": "stream",
     "text": [
      "{'Bollywood', 'DC', 'Marvel', 'Hollywood'}\n"
     ]
    }
   ],
   "source": [
    "print(set2)"
   ]
  },
  {
   "cell_type": "markdown",
   "id": "58c4a360",
   "metadata": {},
   "source": [
    "# Dictionaries"
   ]
  },
  {
   "cell_type": "code",
   "execution_count": 28,
   "id": "ef6adcd0",
   "metadata": {},
   "outputs": [],
   "source": [
    "dic={}"
   ]
  },
  {
   "cell_type": "code",
   "execution_count": 29,
   "id": "475a0ec6",
   "metadata": {},
   "outputs": [
    {
     "data": {
      "text/plain": [
       "dict"
      ]
     },
     "execution_count": 29,
     "metadata": {},
     "output_type": "execute_result"
    }
   ],
   "source": [
    "type(dic)"
   ]
  },
  {
   "cell_type": "code",
   "execution_count": 30,
   "id": "a35253c0",
   "metadata": {},
   "outputs": [],
   "source": [
    "dic={1,2,3,4,5}\n"
   ]
  },
  {
   "cell_type": "code",
   "execution_count": 31,
   "id": "45ba0300",
   "metadata": {},
   "outputs": [
    {
     "data": {
      "text/plain": [
       "set"
      ]
     },
     "execution_count": 31,
     "metadata": {},
     "output_type": "execute_result"
    }
   ],
   "source": [
    "type(dic)"
   ]
  },
  {
   "cell_type": "code",
   "execution_count": 32,
   "id": "2c31e920",
   "metadata": {},
   "outputs": [],
   "source": [
    "## lets create a dictionay\n",
    "\n",
    "my_dict={\"car\":\"audi\",\"car2\":\"bmw\",\"car3\":\"benz\"}\n"
   ]
  },
  {
   "cell_type": "code",
   "execution_count": 33,
   "id": "a21e19aa",
   "metadata": {},
   "outputs": [
    {
     "data": {
      "text/plain": [
       "dict"
      ]
     },
     "execution_count": 33,
     "metadata": {},
     "output_type": "execute_result"
    }
   ],
   "source": [
    "type(my_dict)"
   ]
  },
  {
   "cell_type": "code",
   "execution_count": 34,
   "id": "3074ef82",
   "metadata": {},
   "outputs": [],
   "source": [
    "     ## access the item values based on keys"
   ]
  },
  {
   "cell_type": "code",
   "execution_count": 35,
   "id": "9826d45b",
   "metadata": {},
   "outputs": [
    {
     "ename": "KeyError",
     "evalue": "'car1'",
     "output_type": "error",
     "traceback": [
      "\u001b[1;31m---------------------------------------------------------------------------\u001b[0m",
      "\u001b[1;31mKeyError\u001b[0m                                  Traceback (most recent call last)",
      "\u001b[1;32m<ipython-input-35-0457275b34bd>\u001b[0m in \u001b[0;36m<module>\u001b[1;34m\u001b[0m\n\u001b[1;32m----> 1\u001b[1;33m \u001b[0mmy_dict\u001b[0m\u001b[1;33m[\u001b[0m\u001b[1;34m'car1'\u001b[0m\u001b[1;33m]\u001b[0m\u001b[1;33m\u001b[0m\u001b[1;33m\u001b[0m\u001b[0m\n\u001b[0m",
      "\u001b[1;31mKeyError\u001b[0m: 'car1'"
     ]
    }
   ],
   "source": [
    "   my_dict['car1']"
   ]
  },
  {
   "cell_type": "code",
   "execution_count": null,
   "id": "8a111bcf",
   "metadata": {},
   "outputs": [],
   "source": []
  },
  {
   "cell_type": "markdown",
   "id": "308bc0f8",
   "metadata": {},
   "source": [
    "# Tuples"
   ]
  },
  {
   "cell_type": "code",
   "execution_count": 36,
   "id": "d227d689",
   "metadata": {},
   "outputs": [],
   "source": [
    "## create on empty tuples"
   ]
  },
  {
   "cell_type": "code",
   "execution_count": 20,
   "id": "a1c71de6",
   "metadata": {},
   "outputs": [],
   "source": [
    "    my_tuple=tuple()"
   ]
  },
  {
   "cell_type": "code",
   "execution_count": 21,
   "id": "a35fa803",
   "metadata": {},
   "outputs": [
    {
     "data": {
      "text/plain": [
       "tuple"
      ]
     },
     "execution_count": 21,
     "metadata": {},
     "output_type": "execute_result"
    }
   ],
   "source": [
    "type(my_tuple)"
   ]
  },
  {
   "cell_type": "code",
   "execution_count": 37,
   "id": "8bc91eff",
   "metadata": {},
   "outputs": [],
   "source": [
    "my_tuple=()"
   ]
  },
  {
   "cell_type": "code",
   "execution_count": 38,
   "id": "6e78f9f7",
   "metadata": {},
   "outputs": [
    {
     "data": {
      "text/plain": [
       "tuple"
      ]
     },
     "execution_count": 38,
     "metadata": {},
     "output_type": "execute_result"
    }
   ],
   "source": [
    "type(my_tuple)"
   ]
  },
  {
   "cell_type": "code",
   "execution_count": null,
   "id": "9aa90485",
   "metadata": {},
   "outputs": [],
   "source": [
    "my_tuple=(\"saurav\",\"rakeh\",\"\")"
   ]
  }
 ],
 "metadata": {
  "kernelspec": {
   "display_name": "Python 3",
   "language": "python",
   "name": "python3"
  },
  "language_info": {
   "codemirror_mode": {
    "name": "ipython",
    "version": 3
   },
   "file_extension": ".py",
   "mimetype": "text/x-python",
   "name": "python",
   "nbconvert_exporter": "python",
   "pygments_lexer": "ipython3",
   "version": "3.8.8"
  }
 },
 "nbformat": 4,
 "nbformat_minor": 5
}
