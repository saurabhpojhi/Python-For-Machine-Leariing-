{
 "cells": [
  {
   "cell_type": "markdown",
   "id": "4283e23a",
   "metadata": {},
   "source": [
    "#### Filter Functions In Python"
   ]
  },
  {
   "cell_type": "code",
   "execution_count": 4,
   "id": "e249c825",
   "metadata": {},
   "outputs": [],
   "source": [
    "def even(num):\n",
    "    if num%2==0:\n",
    "        return True"
   ]
  },
  {
   "cell_type": "code",
   "execution_count": 5,
   "id": "bf523f7d",
   "metadata": {},
   "outputs": [],
   "source": [
    "lst=[1,2,3,4,5,6,7,8,9,0]"
   ]
  },
  {
   "cell_type": "code",
   "execution_count": 6,
   "id": "838e93b7",
   "metadata": {},
   "outputs": [
    {
     "data": {
      "text/plain": [
       "[2, 4, 6, 8, 0]"
      ]
     },
     "execution_count": 6,
     "metadata": {},
     "output_type": "execute_result"
    }
   ],
   "source": [
    "list(filter(even,lst))"
   ]
  },
  {
   "cell_type": "code",
   "execution_count": 9,
   "id": "8e8e3faf",
   "metadata": {},
   "outputs": [],
   "source": [
    " # now we can conevrt then lambda function"
   ]
  },
  {
   "cell_type": "code",
   "execution_count": 13,
   "id": "9154f54b",
   "metadata": {},
   "outputs": [
    {
     "data": {
      "text/plain": [
       "[2, 4, 6, 8, 0]"
      ]
     },
     "execution_count": 13,
     "metadata": {},
     "output_type": "execute_result"
    }
   ],
   "source": [
    " list(filter(lambda num:num%2==0,lst))"
   ]
  },
  {
   "cell_type": "code",
   "execution_count": 14,
   "id": "deb2e068",
   "metadata": {},
   "outputs": [
    {
     "data": {
      "text/plain": [
       "[False, True, False, True, False, True, False, True, False, True]"
      ]
     },
     "execution_count": 14,
     "metadata": {},
     "output_type": "execute_result"
    }
   ],
   "source": [
    "list(map(lambda num:num%2==0,lst))"
   ]
  },
  {
   "cell_type": "code",
   "execution_count": null,
   "id": "8083eb09",
   "metadata": {},
   "outputs": [],
   "source": []
  }
 ],
 "metadata": {
  "kernelspec": {
   "display_name": "Python 3",
   "language": "python",
   "name": "python3"
  },
  "language_info": {
   "codemirror_mode": {
    "name": "ipython",
    "version": 3
   },
   "file_extension": ".py",
   "mimetype": "text/x-python",
   "name": "python",
   "nbconvert_exporter": "python",
   "pygments_lexer": "ipython3",
   "version": "3.8.8"
  }
 },
 "nbformat": 4,
 "nbformat_minor": 5
}
